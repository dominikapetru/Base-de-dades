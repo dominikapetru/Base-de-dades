{
 "cells": [
  {
   "cell_type": "markdown",
   "id": "aa9705b6-86f2-4d25-b462-74bba8196bdc",
   "metadata": {},
   "source": [
    "# Sprint 17: MySQL"
   ]
  },
  {
   "cell_type": "markdown",
   "id": "847b98da-5c2f-4589-b558-89afddda964a",
   "metadata": {},
   "source": [
    "#### Imports"
   ]
  },
  {
   "cell_type": "code",
   "execution_count": 235,
   "id": "83c33f32-0e33-41f8-b49c-a40bfa6f93d2",
   "metadata": {},
   "outputs": [],
   "source": [
    "import mysql.connector\n",
    "from mysql.connector import Error\n",
    "import pandas as pd\n",
    "from IPython.display import Image\n",
    "\n",
    "import seaborn as sns\n",
    "import matplotlib.pyplot as plt"
   ]
  },
  {
   "cell_type": "markdown",
   "id": "d396cd62-07af-488f-a798-a62044590404",
   "metadata": {},
   "source": [
    "## Level 1"
   ]
  },
  {
   "cell_type": "markdown",
   "id": "3a2f1275-8c9b-4d8d-adc9-0ea78cf09617",
   "metadata": {},
   "source": [
    "### Exercise 1"
   ]
  },
  {
   "cell_type": "markdown",
   "id": "8935ea7f-469a-4e61-bd1a-40f98366db84",
   "metadata": {},
   "source": [
    "#### Create relation database and create connection to Python"
   ]
  },
  {
   "cell_type": "markdown",
   "id": "8eb18562-2277-4960-9d9b-20e1c1a6f76e",
   "metadata": {},
   "source": [
    "I will create a database for a group of shops."
   ]
  },
  {
   "cell_type": "markdown",
   "id": "d515c75e-9676-4de7-9e2e-9357660be0cd",
   "metadata": {},
   "source": [
    "##### Content:\n",
    "- table of enterprises\n",
    "- table of employees\n",
    "- table of clients\n",
    "- table of products\n",
    "- table of types of products\n",
    "- table of transactions\n",
    "\n",
    "##### Relations:\n",
    "- 1:N One enterprise has many employees\n",
    "- 1:N One enterprise has many clients\n",
    "- N:M Multiple enterprises has multiple products - join table Products\n",
    "    - 1:N One enterprise has many products\n",
    "    - 1:N One type of product has many products\n",
    "- 1:N One enterprise has many transactions\n",
    "- 1:N One client has relation with many transactions"
   ]
  },
  {
   "cell_type": "code",
   "execution_count": 236,
   "id": "f41ddd65-1e05-4992-888a-b5a604aaca1b",
   "metadata": {},
   "outputs": [
    {
     "name": "stdout",
     "output_type": "stream",
     "text": [
      "<mysql.connector.connection.MySQLConnection object at 0x11e0bee50>\n"
     ]
    }
   ],
   "source": [
    "#connecting to MySQL locally\n",
    "db = mysql.connector.connect(\n",
    "     host=\"localhost\",\n",
    "     user=\"root\",\n",
    "     password=\"AnticRoca32\")\n",
    "\n",
    "print(db)"
   ]
  },
  {
   "cell_type": "code",
   "execution_count": 237,
   "id": "b3500b2e-ccfa-494f-9396-6430e5435a41",
   "metadata": {},
   "outputs": [
    {
     "name": "stdout",
     "output_type": "stream",
     "text": [
      "('information_schema',)\n",
      "('mydatabase1',)\n",
      "('mydatabase2',)\n",
      "('mysql',)\n",
      "('performance_schema',)\n",
      "('sys',)\n"
     ]
    }
   ],
   "source": [
    "#creating a database\n",
    "mycursor = db.cursor()\n",
    "mycursor.execute(\"DROP DATABASE IF EXISTS mydatabase1\")\n",
    "mycursor.execute(\"CREATE DATABASE mydatabase1\")\n",
    "mycursor.execute(\"SHOW DATABASES\")\n",
    "for x in mycursor:\n",
    "    print(x)"
   ]
  },
  {
   "cell_type": "code",
   "execution_count": 238,
   "id": "4d03e2c9-2914-4657-a7e3-c745f8bbc758",
   "metadata": {},
   "outputs": [
    {
     "name": "stdout",
     "output_type": "stream",
     "text": [
      "('Clients',)\n",
      "('Employees',)\n",
      "('Enterprises',)\n",
      "('Products',)\n",
      "('Transactions',)\n",
      "('TypesProducts',)\n"
     ]
    }
   ],
   "source": [
    "#connecting to new database abnd creating tables\n",
    "mycursor.execute(\"USE mydatabase1\")\n",
    "mycursor.execute(\"\"\"CREATE TABLE Enterprises \n",
    "                (EnterpriseID INT AUTO_INCREMENT PRIMARY KEY, \n",
    "                NameEnterprise VARCHAR(255), \n",
    "                Location VARCHAR(255), \n",
    "                Area INT)\"\"\")\n",
    "\n",
    "mycursor.execute(\"\"\"CREATE TABLE Employees \n",
    "                (EmployeeID INT AUTO_INCREMENT PRIMARY KEY, \n",
    "                NameEmployee VARCHAR(255), \n",
    "                Surname VARCHAR(255), \n",
    "                DNI VARCHAR(255),\n",
    "                EnterpriseID INT)\"\"\")\n",
    "\n",
    "mycursor.execute(\"\"\"CREATE TABLE TypesProducts \n",
    "                (TypeProductID INT AUTO_INCREMENT PRIMARY KEY,  \n",
    "                NameTypeProduct VARCHAR(255),\n",
    "                Reference INT)\"\"\")\n",
    "\n",
    "mycursor.execute(\"\"\"CREATE TABLE Products \n",
    "                (ProductID INT AUTO_INCREMENT PRIMARY KEY,\n",
    "                NameProduct VARCHAR(255),\n",
    "                PriceUnit INT,\n",
    "                EnterpriseID INT,\n",
    "                TypeProductID INT)\"\"\")\n",
    "\n",
    "mycursor.execute(\"\"\"CREATE TABLE Clients \n",
    "                (ClientID INT AUTO_INCREMENT PRIMARY KEY,\n",
    "                NameClient VARCHAR(255), \n",
    "                Surname VARCHAR(255), \n",
    "                Email VARCHAR(255),\n",
    "                EnterpriseID INT)\"\"\")\n",
    "\n",
    "mycursor.execute(\"\"\"CREATE TABLE Transactions \n",
    "                (TransactionID INT AUTO_INCREMENT PRIMARY KEY,\n",
    "                DateTransaction DATE,\n",
    "                Amount INT,\n",
    "                OrderNumber INT,\n",
    "                EnterpriseID INT,\n",
    "                ClientID INT)\"\"\")\n",
    "\n",
    "mycursor.execute(\"SHOW TABLES\")\n",
    "for x in mycursor:\n",
    "    print(x)"
   ]
  },
  {
   "cell_type": "code",
   "execution_count": 239,
   "id": "84038a19-e63a-4253-8e3e-a639bac43add",
   "metadata": {},
   "outputs": [],
   "source": [
    "#foreign keys\n",
    "mycursor.execute(\"USE mydatabase1\")\n",
    "mycursor.execute(\"\"\"ALTER TABLE Employees ADD FOREIGN KEY (EnterpriseID) REFERENCES Enterprises(EnterpriseID)\"\"\")\n",
    "mycursor.execute(\"\"\"ALTER TABLE Products ADD FOREIGN KEY (EnterpriseID) REFERENCES Enterprises(EnterpriseID)\"\"\")\n",
    "mycursor.execute(\"\"\"ALTER TABLE Products ADD FOREIGN KEY (TypeProductID) REFERENCES TypesProducts(TypeProductID)\"\"\")\n",
    "mycursor.execute(\"\"\"ALTER TABLE Clients ADD FOREIGN KEY (EnterpriseID) REFERENCES Enterprises(EnterpriseID)\"\"\")\n",
    "mycursor.execute(\"\"\"ALTER TABLE Transactions ADD FOREIGN KEY (EnterpriseID) REFERENCES Enterprises(EnterpriseID)\"\"\")\n",
    "mycursor.execute(\"\"\"ALTER TABLE Transactions ADD FOREIGN KEY (ClientID) REFERENCES Clients(ClientID)\"\"\")"
   ]
  },
  {
   "cell_type": "code",
   "execution_count": 240,
   "id": "d61fbb64-eadb-4d67-bfdb-fe98a51b0cf8",
   "metadata": {},
   "outputs": [
    {
     "name": "stdout",
     "output_type": "stream",
     "text": [
      "3 record inserted\n"
     ]
    }
   ],
   "source": [
    "#inserting values to table Enterprises\n",
    "sql = \"INSERT INTO Enterprises (NameEnterprise, Location, Area) VALUES (%s, %s, %s)\"\n",
    "val = [(\"Girona shop\", \"C/ Emili Grahit 10\", \"600\"),\n",
    "      (\"Barcelona shop\", \"C/ Pau Claris 20\", \"1600\"),\n",
    "      (\"Palamos shop\", \"C/ President Macià 30\", \"400\")]\n",
    "mycursor.executemany(sql, val)\n",
    "db.commit()\n",
    "print(mycursor.rowcount, \"record inserted\")"
   ]
  },
  {
   "cell_type": "code",
   "execution_count": 241,
   "id": "70c09b91-c4d7-415c-a8ce-5e2ed8426482",
   "metadata": {},
   "outputs": [
    {
     "name": "stdout",
     "output_type": "stream",
     "text": [
      "(1, 'Girona shop', 'C/ Emili Grahit 10', 600)\n",
      "(2, 'Barcelona shop', 'C/ Pau Claris 20', 1600)\n",
      "(3, 'Palamos shop', 'C/ President Macià 30', 400)\n"
     ]
    }
   ],
   "source": [
    "#print all values from table Enterprises\n",
    "mycursor.execute(\"SELECT * FROM Enterprises\")\n",
    "myresult = mycursor.fetchall()\n",
    "for x in myresult:\n",
    "    print(x)"
   ]
  },
  {
   "cell_type": "code",
   "execution_count": 242,
   "id": "3d06d71b-c18e-46e7-b454-056006e74618",
   "metadata": {},
   "outputs": [
    {
     "name": "stdout",
     "output_type": "stream",
     "text": [
      "3 record inserted\n"
     ]
    }
   ],
   "source": [
    "#inserting values to table Employees             \n",
    "sql = \"INSERT INTO Employees (NameEmployee, Surname, DNI, EnterpriseID) VALUES (%s, %s, %s, %s)\"\n",
    "val = [(\"Maria\",\"Garcia Martinez\",\"99999999K\",\"1\"),\n",
    "      (\"Irene\",\"Lopez Martin\",\"88888888K\",\"2\"),\n",
    "      (\"Carles\",\"Diaz Romero\",\"77777777K\",\"3\")]\n",
    "mycursor.executemany(sql, val)\n",
    "db.commit()\n",
    "print(mycursor.rowcount, \"record inserted\")"
   ]
  },
  {
   "cell_type": "code",
   "execution_count": 243,
   "id": "ac00e7dc-95d4-4514-bf0f-ff19360b22c0",
   "metadata": {},
   "outputs": [
    {
     "name": "stdout",
     "output_type": "stream",
     "text": [
      "(1, 'Maria', 'Garcia Martinez', '99999999K', 1)\n",
      "(2, 'Irene', 'Lopez Martin', '88888888K', 2)\n",
      "(3, 'Carles', 'Diaz Romero', '77777777K', 3)\n"
     ]
    }
   ],
   "source": [
    "#print all values from table Employees\n",
    "mycursor.execute(\"SELECT * FROM Employees\")\n",
    "myresult = mycursor.fetchall()\n",
    "for x in myresult:\n",
    "    print(x)"
   ]
  },
  {
   "cell_type": "code",
   "execution_count": 244,
   "id": "4b9bec89-ea7d-4317-9b3d-9fae34bc2bba",
   "metadata": {},
   "outputs": [
    {
     "name": "stdout",
     "output_type": "stream",
     "text": [
      "6 record inserted\n"
     ]
    }
   ],
   "source": [
    "#inserting values to table TypesProducts             \n",
    "sql = \"INSERT INTO TypesProducts (NameTypeProduct, Reference) VALUES (%s, %s)\"\n",
    "val = [(\"Table\",\"5513\"),\n",
    "       (\"Chair\",\"5425\"),\n",
    "       (\"Lighting\",\"5356\"),\n",
    "       (\"Beds\",\"5895\"),\n",
    "       (\"Decoration\",\"5813\"),\n",
    "       (\"Sofa\",\"5516\")]\n",
    "\n",
    "mycursor.executemany(sql, val)\n",
    "db.commit()\n",
    "print(mycursor.rowcount, \"record inserted\")"
   ]
  },
  {
   "cell_type": "code",
   "execution_count": 245,
   "id": "91baf791-c7a1-4f00-ad1f-bb43b7344bac",
   "metadata": {},
   "outputs": [
    {
     "name": "stdout",
     "output_type": "stream",
     "text": [
      "(1, 'Table', 5513)\n",
      "(2, 'Chair', 5425)\n",
      "(3, 'Lighting', 5356)\n",
      "(4, 'Beds', 5895)\n",
      "(5, 'Decoration', 5813)\n",
      "(6, 'Sofa', 5516)\n"
     ]
    }
   ],
   "source": [
    "#print all values from table TypesProducts\n",
    "mycursor.execute(\"SELECT * FROM TypesProducts\")\n",
    "myresult = mycursor.fetchall()\n",
    "for x in myresult:\n",
    "    print(x)"
   ]
  },
  {
   "cell_type": "code",
   "execution_count": 246,
   "id": "1250340a-d316-40a7-8056-1e1adeef35d7",
   "metadata": {},
   "outputs": [
    {
     "name": "stdout",
     "output_type": "stream",
     "text": [
      "6 record inserted\n"
     ]
    }
   ],
   "source": [
    "#inserting values to table Clients           \n",
    "sql = \"INSERT INTO Clients (NameClient, Surname, Email, EnterpriseID) VALUES (%s, %s, %s, %s)\"\n",
    "val = [(\"Lorena\",\"Garcia Martinez\",\"Lorena@gmail.com\",\"3\"),\n",
    "      (\"Jaume\",\"Lopez Martin\",\"Jaume@gmail.com\",\"1\"),\n",
    "      (\"Rafael\",\"Diaz Romero\",\"Rafael@gmail.com\",\"2\"),\n",
    "      (\"Imma\",\"Torres Gil\",\"Imma@gmail.com\",\"1\"),\n",
    "      (\"Monica\",\"Jimenez Diaz\",\"Monica@gmail.com\",\"2\"),\n",
    "      (\"Alex\",\"Serrano Navarro\",\"Alex@gmail.com\",\"3\")]\n",
    "mycursor.executemany(sql, val)\n",
    "db.commit()\n",
    "print(mycursor.rowcount, \"record inserted\")"
   ]
  },
  {
   "cell_type": "code",
   "execution_count": 247,
   "id": "75a90d0d-1872-4e42-a890-078288133725",
   "metadata": {},
   "outputs": [
    {
     "name": "stdout",
     "output_type": "stream",
     "text": [
      "(1, 'Lorena', 'Garcia Martinez', 'Lorena@gmail.com', 3)\n",
      "(2, 'Jaume', 'Lopez Martin', 'Jaume@gmail.com', 1)\n",
      "(3, 'Rafael', 'Diaz Romero', 'Rafael@gmail.com', 2)\n",
      "(4, 'Imma', 'Torres Gil', 'Imma@gmail.com', 1)\n",
      "(5, 'Monica', 'Jimenez Diaz', 'Monica@gmail.com', 2)\n",
      "(6, 'Alex', 'Serrano Navarro', 'Alex@gmail.com', 3)\n"
     ]
    }
   ],
   "source": [
    "#print all values from table Clients\n",
    "mycursor.execute(\"SELECT * FROM Clients\")\n",
    "myresult = mycursor.fetchall()\n",
    "for x in myresult:\n",
    "    print(x)"
   ]
  },
  {
   "cell_type": "code",
   "execution_count": 248,
   "id": "0ec8b04a-aa7d-4451-8922-8ba955342ce2",
   "metadata": {},
   "outputs": [
    {
     "name": "stdout",
     "output_type": "stream",
     "text": [
      "7 record inserted\n"
     ]
    }
   ],
   "source": [
    "#inserting values to table Transactions           \n",
    "sql = \"INSERT INTO Transactions (DateTransaction, Amount, OrderNumber, EnterpriseID, ClientID) VALUES (%s, %s, %s, %s, %s)\"\n",
    "val = [(\"2021-11-20\",\"1200\",\"202101\",\"1\",\"1\"),\n",
    "       (\"2021-11-20\",\"450\",\"202102\",\"2\",\"1\"),\n",
    "       (\"2021-11-20\",\"1050\",\"202103\",\"3\",\"1\"),\n",
    "       (\"2021-11-20\",\"800\",\"202104\",\"2\",\"3\"),\n",
    "       (\"2021-11-20\",\"1000\",\"202105\",\"2\",\"2\"),\n",
    "       (\"2021-11-20\",\"400\",\"202101\",\"1\",\"3\"),\n",
    "       (\"2021-11-20\",\"800\",\"202103\",\"3\",\"2\")]\n",
    "\n",
    "mycursor.executemany(sql, val)\n",
    "db.commit()\n",
    "print(mycursor.rowcount, \"record inserted\")"
   ]
  },
  {
   "cell_type": "code",
   "execution_count": 249,
   "id": "d21fdd0e-21bf-4d66-8893-fb3e8158fd7a",
   "metadata": {},
   "outputs": [
    {
     "name": "stdout",
     "output_type": "stream",
     "text": [
      "(1, datetime.date(2021, 11, 20), 1200, 202101, 1, 1)\n",
      "(2, datetime.date(2021, 11, 20), 450, 202102, 2, 1)\n",
      "(3, datetime.date(2021, 11, 20), 1050, 202103, 3, 1)\n",
      "(4, datetime.date(2021, 11, 20), 800, 202104, 2, 3)\n",
      "(5, datetime.date(2021, 11, 20), 1000, 202105, 2, 2)\n",
      "(6, datetime.date(2021, 11, 20), 400, 202101, 1, 3)\n",
      "(7, datetime.date(2021, 11, 20), 800, 202103, 3, 2)\n"
     ]
    }
   ],
   "source": [
    "#print all values from table Transactions\n",
    "mycursor.execute(\"SELECT * FROM Transactions\")\n",
    "myresult = mycursor.fetchall()\n",
    "for x in myresult:\n",
    "    print(x)"
   ]
  },
  {
   "cell_type": "code",
   "execution_count": 250,
   "id": "173c2675-3e66-4b66-83c6-37b91f00a26e",
   "metadata": {
    "tags": []
   },
   "outputs": [
    {
     "name": "stdout",
     "output_type": "stream",
     "text": [
      "4 record inserted\n"
     ]
    }
   ],
   "source": [
    "#inserting values to table Products             \n",
    "sql = \"INSERT INTO Products (NameProduct, PriceUnit, EnterpriseID, TypeProductID) VALUES (%s, %s, %s, %s)\"\n",
    "val = [(\"TableSmall\",\"250\",\"1\",\"1\"),\n",
    "       (\"TableMedium\",\"350\",\"2\",\"1\"),\n",
    "       (\"TableBig\",\"450\",\"3\",\"1\"),\n",
    "       (\"Chair\",\"650\",\"2\",\"2\")]\n",
    "\n",
    "mycursor.executemany(sql, val)\n",
    "db.commit()\n",
    "print(mycursor.rowcount, \"record inserted\")"
   ]
  },
  {
   "cell_type": "code",
   "execution_count": 251,
   "id": "691ffe67-71eb-4ad5-996c-564bb1b6ca19",
   "metadata": {},
   "outputs": [
    {
     "name": "stdout",
     "output_type": "stream",
     "text": [
      "(1, 'TableSmall', 250, 1, 1)\n",
      "(2, 'TableMedium', 350, 2, 1)\n",
      "(3, 'TableBig', 450, 3, 1)\n",
      "(4, 'Chair', 650, 2, 2)\n"
     ]
    }
   ],
   "source": [
    "#print all values from table Products\n",
    "mycursor.execute(\"SELECT * FROM Products\")\n",
    "myresult = mycursor.fetchall()\n",
    "for x in myresult:\n",
    "    print(x)"
   ]
  },
  {
   "cell_type": "markdown",
   "id": "6cd031b6-988b-41d7-a3ae-739dd9894fe1",
   "metadata": {},
   "source": [
    "## Level 2"
   ]
  },
  {
   "cell_type": "markdown",
   "id": "655505ac-990d-48c7-86b0-1d6492d55462",
   "metadata": {},
   "source": [
    "### Exercise 2"
   ]
  },
  {
   "cell_type": "markdown",
   "id": "24cfe04c-77d4-40a4-ab44-96ed1bd631e1",
   "metadata": {},
   "source": [
    "#### Do some queries and create some dataframes"
   ]
  },
  {
   "cell_type": "code",
   "execution_count": 252,
   "id": "2c51d00b-da9d-4344-ba37-69078bd90d69",
   "metadata": {},
   "outputs": [],
   "source": [
    "#databes of all enterprises\n",
    "try:\n",
    "    db = mysql.connector.connect(host=\"localhost\", database = 'mydatabase1',user=\"root\", passwd=\"AnticRoca32\",use_pure=True)\n",
    "    query = \"SELECT * FROM Enterprises;\"\n",
    "    enterprise_dataFrame = pd.read_sql(query,db)\n",
    "except Exception as e:\n",
    "    db.close()\n",
    "    print(str(e))"
   ]
  },
  {
   "cell_type": "code",
   "execution_count": 253,
   "id": "0c954caf-29f4-4a72-9410-1026329245e2",
   "metadata": {},
   "outputs": [
    {
     "data": {
      "text/html": [
       "<div>\n",
       "<style scoped>\n",
       "    .dataframe tbody tr th:only-of-type {\n",
       "        vertical-align: middle;\n",
       "    }\n",
       "\n",
       "    .dataframe tbody tr th {\n",
       "        vertical-align: top;\n",
       "    }\n",
       "\n",
       "    .dataframe thead th {\n",
       "        text-align: right;\n",
       "    }\n",
       "</style>\n",
       "<table border=\"1\" class=\"dataframe\">\n",
       "  <thead>\n",
       "    <tr style=\"text-align: right;\">\n",
       "      <th></th>\n",
       "      <th>EnterpriseID</th>\n",
       "      <th>NameEnterprise</th>\n",
       "      <th>Location</th>\n",
       "      <th>Area</th>\n",
       "    </tr>\n",
       "  </thead>\n",
       "  <tbody>\n",
       "    <tr>\n",
       "      <th>0</th>\n",
       "      <td>1</td>\n",
       "      <td>Girona shop</td>\n",
       "      <td>C/ Emili Grahit 10</td>\n",
       "      <td>600</td>\n",
       "    </tr>\n",
       "    <tr>\n",
       "      <th>1</th>\n",
       "      <td>2</td>\n",
       "      <td>Barcelona shop</td>\n",
       "      <td>C/ Pau Claris 20</td>\n",
       "      <td>1600</td>\n",
       "    </tr>\n",
       "    <tr>\n",
       "      <th>2</th>\n",
       "      <td>3</td>\n",
       "      <td>Palamos shop</td>\n",
       "      <td>C/ President Macià 30</td>\n",
       "      <td>400</td>\n",
       "    </tr>\n",
       "  </tbody>\n",
       "</table>\n",
       "</div>"
      ],
      "text/plain": [
       "   EnterpriseID  NameEnterprise               Location  Area\n",
       "0             1     Girona shop     C/ Emili Grahit 10   600\n",
       "1             2  Barcelona shop       C/ Pau Claris 20  1600\n",
       "2             3    Palamos shop  C/ President Macià 30   400"
      ]
     },
     "execution_count": 253,
     "metadata": {},
     "output_type": "execute_result"
    }
   ],
   "source": [
    "enterprise_dataFrame"
   ]
  },
  {
   "cell_type": "code",
   "execution_count": 254,
   "id": "0bc96108-9fce-460c-a40d-6236c4260cb3",
   "metadata": {},
   "outputs": [],
   "source": [
    "#databes of all products with name of shop where to find them\n",
    "try:\n",
    "    db = mysql.connector.connect(host=\"localhost\", database = 'mydatabase1',user=\"root\", passwd=\"AnticRoca32\",use_pure=True)\n",
    "    query = \"\"\"SELECT Enterprises.NameEnterprise, Products.NameProduct, Products.PriceUnit \n",
    "    FROM Enterprises \n",
    "    INNER JOIN Products ON Enterprises.EnterpriseID = Products.EnterpriseID;\"\"\"\n",
    "    products_dataFrame = pd.read_sql(query,db)\n",
    "except Exception as e:\n",
    "    db.close()\n",
    "    print(str(e))"
   ]
  },
  {
   "cell_type": "code",
   "execution_count": 255,
   "id": "9a8cdc2e-7bd6-4078-8bcb-52d71ebd7504",
   "metadata": {},
   "outputs": [
    {
     "data": {
      "text/html": [
       "<div>\n",
       "<style scoped>\n",
       "    .dataframe tbody tr th:only-of-type {\n",
       "        vertical-align: middle;\n",
       "    }\n",
       "\n",
       "    .dataframe tbody tr th {\n",
       "        vertical-align: top;\n",
       "    }\n",
       "\n",
       "    .dataframe thead th {\n",
       "        text-align: right;\n",
       "    }\n",
       "</style>\n",
       "<table border=\"1\" class=\"dataframe\">\n",
       "  <thead>\n",
       "    <tr style=\"text-align: right;\">\n",
       "      <th></th>\n",
       "      <th>NameEnterprise</th>\n",
       "      <th>NameProduct</th>\n",
       "      <th>PriceUnit</th>\n",
       "    </tr>\n",
       "  </thead>\n",
       "  <tbody>\n",
       "    <tr>\n",
       "      <th>0</th>\n",
       "      <td>Girona shop</td>\n",
       "      <td>TableSmall</td>\n",
       "      <td>250</td>\n",
       "    </tr>\n",
       "    <tr>\n",
       "      <th>1</th>\n",
       "      <td>Barcelona shop</td>\n",
       "      <td>TableMedium</td>\n",
       "      <td>350</td>\n",
       "    </tr>\n",
       "    <tr>\n",
       "      <th>2</th>\n",
       "      <td>Palamos shop</td>\n",
       "      <td>TableBig</td>\n",
       "      <td>450</td>\n",
       "    </tr>\n",
       "    <tr>\n",
       "      <th>3</th>\n",
       "      <td>Barcelona shop</td>\n",
       "      <td>Chair</td>\n",
       "      <td>650</td>\n",
       "    </tr>\n",
       "  </tbody>\n",
       "</table>\n",
       "</div>"
      ],
      "text/plain": [
       "   NameEnterprise  NameProduct  PriceUnit\n",
       "0     Girona shop   TableSmall        250\n",
       "1  Barcelona shop  TableMedium        350\n",
       "2    Palamos shop     TableBig        450\n",
       "3  Barcelona shop        Chair        650"
      ]
     },
     "execution_count": 255,
     "metadata": {},
     "output_type": "execute_result"
    }
   ],
   "source": [
    "products_dataFrame"
   ]
  },
  {
   "cell_type": "code",
   "execution_count": 256,
   "id": "26ef5315-0a27-440c-87fd-55c8ec55b0d4",
   "metadata": {},
   "outputs": [],
   "source": [
    "#inner join - transactions by each shop\n",
    "try:\n",
    "    db = mysql.connector.connect(host=\"localhost\", database = 'mydatabase1',user=\"root\", passwd=\"AnticRoca32\",use_pure=True)\n",
    "    query = \"\"\"SELECT Enterprises.NameEnterprise, Enterprises.Location, Transactions.DateTransaction, Transactions.Amount\n",
    "    FROM Enterprises\n",
    "    INNER JOIN Transactions ON Enterprises.EnterpriseID=Transactions.EnterpriseID;\"\"\"\n",
    "    transactions_dataFrame = pd.read_sql(query,db)\n",
    "except Exception as e:\n",
    "    db.close()\n",
    "    print(str(e))"
   ]
  },
  {
   "cell_type": "code",
   "execution_count": 257,
   "id": "ec7359fd-ffeb-4bfc-a220-ec9296e7d8a5",
   "metadata": {},
   "outputs": [
    {
     "data": {
      "text/html": [
       "<div>\n",
       "<style scoped>\n",
       "    .dataframe tbody tr th:only-of-type {\n",
       "        vertical-align: middle;\n",
       "    }\n",
       "\n",
       "    .dataframe tbody tr th {\n",
       "        vertical-align: top;\n",
       "    }\n",
       "\n",
       "    .dataframe thead th {\n",
       "        text-align: right;\n",
       "    }\n",
       "</style>\n",
       "<table border=\"1\" class=\"dataframe\">\n",
       "  <thead>\n",
       "    <tr style=\"text-align: right;\">\n",
       "      <th></th>\n",
       "      <th>NameEnterprise</th>\n",
       "      <th>Location</th>\n",
       "      <th>DateTransaction</th>\n",
       "      <th>Amount</th>\n",
       "    </tr>\n",
       "  </thead>\n",
       "  <tbody>\n",
       "    <tr>\n",
       "      <th>0</th>\n",
       "      <td>Girona shop</td>\n",
       "      <td>C/ Emili Grahit 10</td>\n",
       "      <td>2021-11-20</td>\n",
       "      <td>1200</td>\n",
       "    </tr>\n",
       "    <tr>\n",
       "      <th>1</th>\n",
       "      <td>Barcelona shop</td>\n",
       "      <td>C/ Pau Claris 20</td>\n",
       "      <td>2021-11-20</td>\n",
       "      <td>450</td>\n",
       "    </tr>\n",
       "    <tr>\n",
       "      <th>2</th>\n",
       "      <td>Palamos shop</td>\n",
       "      <td>C/ President Macià 30</td>\n",
       "      <td>2021-11-20</td>\n",
       "      <td>1050</td>\n",
       "    </tr>\n",
       "    <tr>\n",
       "      <th>3</th>\n",
       "      <td>Barcelona shop</td>\n",
       "      <td>C/ Pau Claris 20</td>\n",
       "      <td>2021-11-20</td>\n",
       "      <td>800</td>\n",
       "    </tr>\n",
       "    <tr>\n",
       "      <th>4</th>\n",
       "      <td>Barcelona shop</td>\n",
       "      <td>C/ Pau Claris 20</td>\n",
       "      <td>2021-11-20</td>\n",
       "      <td>1000</td>\n",
       "    </tr>\n",
       "    <tr>\n",
       "      <th>5</th>\n",
       "      <td>Girona shop</td>\n",
       "      <td>C/ Emili Grahit 10</td>\n",
       "      <td>2021-11-20</td>\n",
       "      <td>400</td>\n",
       "    </tr>\n",
       "    <tr>\n",
       "      <th>6</th>\n",
       "      <td>Palamos shop</td>\n",
       "      <td>C/ President Macià 30</td>\n",
       "      <td>2021-11-20</td>\n",
       "      <td>800</td>\n",
       "    </tr>\n",
       "  </tbody>\n",
       "</table>\n",
       "</div>"
      ],
      "text/plain": [
       "   NameEnterprise               Location DateTransaction  Amount\n",
       "0     Girona shop     C/ Emili Grahit 10      2021-11-20    1200\n",
       "1  Barcelona shop       C/ Pau Claris 20      2021-11-20     450\n",
       "2    Palamos shop  C/ President Macià 30      2021-11-20    1050\n",
       "3  Barcelona shop       C/ Pau Claris 20      2021-11-20     800\n",
       "4  Barcelona shop       C/ Pau Claris 20      2021-11-20    1000\n",
       "5     Girona shop     C/ Emili Grahit 10      2021-11-20     400\n",
       "6    Palamos shop  C/ President Macià 30      2021-11-20     800"
      ]
     },
     "execution_count": 257,
     "metadata": {},
     "output_type": "execute_result"
    }
   ],
   "source": [
    "transactions_dataFrame"
   ]
  },
  {
   "cell_type": "code",
   "execution_count": 258,
   "id": "1e559ef4-eb86-483a-b3a3-20d2c10fa6bb",
   "metadata": {},
   "outputs": [],
   "source": [
    "#inner join - transactions by client\n",
    "try:\n",
    "    db = mysql.connector.connect(host=\"localhost\", database = 'mydatabase1',user=\"root\", passwd=\"AnticRoca32\",use_pure=True)\n",
    "    query = \"\"\"SELECT Transactions.EnterpriseID, Transactions.DateTransaction, Transactions.Amount, Clients.ClientID \n",
    "    FROM Transactions\n",
    "    INNER JOIN Clients ON Transactions.EnterpriseID=Clients.EnterpriseID;\"\"\"\n",
    "    clientsTransactions_dataFrame = pd.read_sql(query,db)\n",
    "except Exception as e:\n",
    "    db.close()\n",
    "    print(str(e))"
   ]
  },
  {
   "cell_type": "code",
   "execution_count": 259,
   "id": "88ab2166-aaa1-4b72-83e0-a21b74e2f687",
   "metadata": {},
   "outputs": [
    {
     "data": {
      "text/html": [
       "<div>\n",
       "<style scoped>\n",
       "    .dataframe tbody tr th:only-of-type {\n",
       "        vertical-align: middle;\n",
       "    }\n",
       "\n",
       "    .dataframe tbody tr th {\n",
       "        vertical-align: top;\n",
       "    }\n",
       "\n",
       "    .dataframe thead th {\n",
       "        text-align: right;\n",
       "    }\n",
       "</style>\n",
       "<table border=\"1\" class=\"dataframe\">\n",
       "  <thead>\n",
       "    <tr style=\"text-align: right;\">\n",
       "      <th></th>\n",
       "      <th>EnterpriseID</th>\n",
       "      <th>DateTransaction</th>\n",
       "      <th>Amount</th>\n",
       "      <th>ClientID</th>\n",
       "    </tr>\n",
       "  </thead>\n",
       "  <tbody>\n",
       "    <tr>\n",
       "      <th>0</th>\n",
       "      <td>1</td>\n",
       "      <td>2021-11-20</td>\n",
       "      <td>1200</td>\n",
       "      <td>2</td>\n",
       "    </tr>\n",
       "    <tr>\n",
       "      <th>1</th>\n",
       "      <td>1</td>\n",
       "      <td>2021-11-20</td>\n",
       "      <td>1200</td>\n",
       "      <td>4</td>\n",
       "    </tr>\n",
       "    <tr>\n",
       "      <th>2</th>\n",
       "      <td>2</td>\n",
       "      <td>2021-11-20</td>\n",
       "      <td>450</td>\n",
       "      <td>3</td>\n",
       "    </tr>\n",
       "    <tr>\n",
       "      <th>3</th>\n",
       "      <td>2</td>\n",
       "      <td>2021-11-20</td>\n",
       "      <td>450</td>\n",
       "      <td>5</td>\n",
       "    </tr>\n",
       "    <tr>\n",
       "      <th>4</th>\n",
       "      <td>3</td>\n",
       "      <td>2021-11-20</td>\n",
       "      <td>1050</td>\n",
       "      <td>1</td>\n",
       "    </tr>\n",
       "    <tr>\n",
       "      <th>5</th>\n",
       "      <td>3</td>\n",
       "      <td>2021-11-20</td>\n",
       "      <td>1050</td>\n",
       "      <td>6</td>\n",
       "    </tr>\n",
       "    <tr>\n",
       "      <th>6</th>\n",
       "      <td>2</td>\n",
       "      <td>2021-11-20</td>\n",
       "      <td>800</td>\n",
       "      <td>3</td>\n",
       "    </tr>\n",
       "    <tr>\n",
       "      <th>7</th>\n",
       "      <td>2</td>\n",
       "      <td>2021-11-20</td>\n",
       "      <td>800</td>\n",
       "      <td>5</td>\n",
       "    </tr>\n",
       "    <tr>\n",
       "      <th>8</th>\n",
       "      <td>2</td>\n",
       "      <td>2021-11-20</td>\n",
       "      <td>1000</td>\n",
       "      <td>3</td>\n",
       "    </tr>\n",
       "    <tr>\n",
       "      <th>9</th>\n",
       "      <td>2</td>\n",
       "      <td>2021-11-20</td>\n",
       "      <td>1000</td>\n",
       "      <td>5</td>\n",
       "    </tr>\n",
       "    <tr>\n",
       "      <th>10</th>\n",
       "      <td>1</td>\n",
       "      <td>2021-11-20</td>\n",
       "      <td>400</td>\n",
       "      <td>2</td>\n",
       "    </tr>\n",
       "    <tr>\n",
       "      <th>11</th>\n",
       "      <td>1</td>\n",
       "      <td>2021-11-20</td>\n",
       "      <td>400</td>\n",
       "      <td>4</td>\n",
       "    </tr>\n",
       "    <tr>\n",
       "      <th>12</th>\n",
       "      <td>3</td>\n",
       "      <td>2021-11-20</td>\n",
       "      <td>800</td>\n",
       "      <td>1</td>\n",
       "    </tr>\n",
       "    <tr>\n",
       "      <th>13</th>\n",
       "      <td>3</td>\n",
       "      <td>2021-11-20</td>\n",
       "      <td>800</td>\n",
       "      <td>6</td>\n",
       "    </tr>\n",
       "  </tbody>\n",
       "</table>\n",
       "</div>"
      ],
      "text/plain": [
       "    EnterpriseID DateTransaction  Amount  ClientID\n",
       "0              1      2021-11-20    1200         2\n",
       "1              1      2021-11-20    1200         4\n",
       "2              2      2021-11-20     450         3\n",
       "3              2      2021-11-20     450         5\n",
       "4              3      2021-11-20    1050         1\n",
       "5              3      2021-11-20    1050         6\n",
       "6              2      2021-11-20     800         3\n",
       "7              2      2021-11-20     800         5\n",
       "8              2      2021-11-20    1000         3\n",
       "9              2      2021-11-20    1000         5\n",
       "10             1      2021-11-20     400         2\n",
       "11             1      2021-11-20     400         4\n",
       "12             3      2021-11-20     800         1\n",
       "13             3      2021-11-20     800         6"
      ]
     },
     "execution_count": 259,
     "metadata": {},
     "output_type": "execute_result"
    }
   ],
   "source": [
    "clientsTransactions_dataFrame"
   ]
  },
  {
   "cell_type": "code",
   "execution_count": 260,
   "id": "f2b1c149-0ebf-4ad2-b33e-34ce20befadd",
   "metadata": {},
   "outputs": [],
   "source": [
    "#group by - all clients from shop ID 1\n",
    "try:\n",
    "    db = mysql.connector.connect(host=\"localhost\", database = 'mydatabase1',user=\"root\", passwd=\"AnticRoca32\",use_pure=True)\n",
    "    query = \"\"\"SELECT Clients.ClientID, Clients.NameClient, Clients.Email\n",
    "    FROM Clients\n",
    "    WHERE Clients.EnterpriseID = 1\n",
    "    ORDER BY Clients.ClientID;\"\"\"\n",
    "    clients_dataFrame = pd.read_sql(query,db)\n",
    "except Exception as e:\n",
    "    db.close()\n",
    "    print(str(e))"
   ]
  },
  {
   "cell_type": "code",
   "execution_count": 261,
   "id": "1a5f7d3b-a0ef-4812-9499-fc2ea64d7d31",
   "metadata": {},
   "outputs": [
    {
     "data": {
      "text/html": [
       "<div>\n",
       "<style scoped>\n",
       "    .dataframe tbody tr th:only-of-type {\n",
       "        vertical-align: middle;\n",
       "    }\n",
       "\n",
       "    .dataframe tbody tr th {\n",
       "        vertical-align: top;\n",
       "    }\n",
       "\n",
       "    .dataframe thead th {\n",
       "        text-align: right;\n",
       "    }\n",
       "</style>\n",
       "<table border=\"1\" class=\"dataframe\">\n",
       "  <thead>\n",
       "    <tr style=\"text-align: right;\">\n",
       "      <th></th>\n",
       "      <th>ClientID</th>\n",
       "      <th>NameClient</th>\n",
       "      <th>Email</th>\n",
       "    </tr>\n",
       "  </thead>\n",
       "  <tbody>\n",
       "    <tr>\n",
       "      <th>0</th>\n",
       "      <td>2</td>\n",
       "      <td>Jaume</td>\n",
       "      <td>Jaume@gmail.com</td>\n",
       "    </tr>\n",
       "    <tr>\n",
       "      <th>1</th>\n",
       "      <td>4</td>\n",
       "      <td>Imma</td>\n",
       "      <td>Imma@gmail.com</td>\n",
       "    </tr>\n",
       "  </tbody>\n",
       "</table>\n",
       "</div>"
      ],
      "text/plain": [
       "   ClientID NameClient            Email\n",
       "0         2      Jaume  Jaume@gmail.com\n",
       "1         4       Imma   Imma@gmail.com"
      ]
     },
     "execution_count": 261,
     "metadata": {},
     "output_type": "execute_result"
    }
   ],
   "source": [
    "clients_dataFrame"
   ]
  },
  {
   "cell_type": "code",
   "execution_count": 262,
   "id": "38411004-abf5-425d-ab6a-785d60874236",
   "metadata": {},
   "outputs": [],
   "source": [
    "#databes of all employees\n",
    "try:\n",
    "    db = mysql.connector.connect(host=\"localhost\", database = 'mydatabase1',user=\"root\", passwd=\"AnticRoca32\",use_pure=True)\n",
    "    query = \"SELECT * FROM Employees;\"\n",
    "    employees_dataFrame = pd.read_sql(query,db)\n",
    "except Exception as e:\n",
    "    db.close()\n",
    "    print(str(e))"
   ]
  },
  {
   "cell_type": "code",
   "execution_count": 263,
   "id": "ee53b391-7e14-4e42-8f46-804742b09a28",
   "metadata": {},
   "outputs": [
    {
     "data": {
      "text/html": [
       "<div>\n",
       "<style scoped>\n",
       "    .dataframe tbody tr th:only-of-type {\n",
       "        vertical-align: middle;\n",
       "    }\n",
       "\n",
       "    .dataframe tbody tr th {\n",
       "        vertical-align: top;\n",
       "    }\n",
       "\n",
       "    .dataframe thead th {\n",
       "        text-align: right;\n",
       "    }\n",
       "</style>\n",
       "<table border=\"1\" class=\"dataframe\">\n",
       "  <thead>\n",
       "    <tr style=\"text-align: right;\">\n",
       "      <th></th>\n",
       "      <th>EmployeeID</th>\n",
       "      <th>NameEmployee</th>\n",
       "      <th>Surname</th>\n",
       "      <th>DNI</th>\n",
       "      <th>EnterpriseID</th>\n",
       "    </tr>\n",
       "  </thead>\n",
       "  <tbody>\n",
       "    <tr>\n",
       "      <th>0</th>\n",
       "      <td>1</td>\n",
       "      <td>Maria</td>\n",
       "      <td>Garcia Martinez</td>\n",
       "      <td>99999999K</td>\n",
       "      <td>1</td>\n",
       "    </tr>\n",
       "    <tr>\n",
       "      <th>1</th>\n",
       "      <td>2</td>\n",
       "      <td>Irene</td>\n",
       "      <td>Lopez Martin</td>\n",
       "      <td>88888888K</td>\n",
       "      <td>2</td>\n",
       "    </tr>\n",
       "    <tr>\n",
       "      <th>2</th>\n",
       "      <td>3</td>\n",
       "      <td>Carles</td>\n",
       "      <td>Diaz Romero</td>\n",
       "      <td>77777777K</td>\n",
       "      <td>3</td>\n",
       "    </tr>\n",
       "  </tbody>\n",
       "</table>\n",
       "</div>"
      ],
      "text/plain": [
       "   EmployeeID NameEmployee          Surname        DNI  EnterpriseID\n",
       "0           1        Maria  Garcia Martinez  99999999K             1\n",
       "1           2        Irene     Lopez Martin  88888888K             2\n",
       "2           3       Carles      Diaz Romero  77777777K             3"
      ]
     },
     "execution_count": 263,
     "metadata": {},
     "output_type": "execute_result"
    }
   ],
   "source": [
    "employees_dataFrame"
   ]
  },
  {
   "cell_type": "markdown",
   "id": "5826d897-607b-4b43-805d-44c68b77c575",
   "metadata": {},
   "source": [
    "## Level 3"
   ]
  },
  {
   "cell_type": "markdown",
   "id": "141aa8ba-64a1-4994-8552-0349723c34c9",
   "metadata": {},
   "source": [
    "### Exercise 3"
   ]
  },
  {
   "cell_type": "markdown",
   "id": "1823ffff-a0d9-4b56-afeb-d9fe2edaf551",
   "metadata": {},
   "source": [
    "#### Graphically visualize data"
   ]
  },
  {
   "cell_type": "code",
   "execution_count": 279,
   "id": "ddc93663-866e-4c4f-9fc8-f282cf6103eb",
   "metadata": {},
   "outputs": [
    {
     "data": {
      "image/png": "[encoded data removed]",
      "text/plain": [
       "<Figure size 1080x288 with 2 Axes>"
      ]
     },
     "metadata": {},
     "output_type": "display_data"
    }
   ],
   "source": [
    "fig,axes = plt.subplots(nrows=1,ncols=2,figsize=(15,4))\n",
    "\n",
    "axes[0].bar(transactions_dataFrame['NameEnterprise'],transactions_dataFrame['Amount'])\n",
    "axes[0].set_xlabel(\"Shops\",fontsize=12)\n",
    "axes[0].set_ylabel(\"Amount of transactions in EUR\",fontsize=12)\n",
    "axes[0].set_title(\"Transactions in shops\",fontsize=15)\n",
    "axes[0].grid(False)\n",
    "\n",
    "axes[1].bar(clientsTransactions_dataFrame['ClientID'],clientsTransactions_dataFrame['Amount'])\n",
    "axes[1].set_xlabel(\"ClientID\",fontsize=12)\n",
    "axes[1].set_ylabel(\"Amount of transaction in EUR\",fontsize=12)\n",
    "axes[1].set_title(\"Sales by client\",fontsize=15)\n",
    "axes[1].grid(False)\n",
    "\n",
    "plt.tight_layout();"
   ]
  },
  {
   "cell_type": "code",
   "execution_count": 283,
   "id": "fb6c8d4d-935b-4c92-8ee9-a153179405c9",
   "metadata": {},
   "outputs": [
    {
     "data": {
      "image/png": "[encoded data removed]",
      "text/plain": [
       "<Figure size 720x288 with 1 Axes>"
      ]
     },
     "metadata": {},
     "output_type": "display_data"
    }
   ],
   "source": [
    "plt.figure(figsize =(10, 4))\n",
    "\n",
    "ax = sns.boxplot(x=clientsTransactions_dataFrame[\"Amount\"],y=clientsTransactions_dataFrame[\"EnterpriseID\"],orient=\"h\")\n",
    "ax.grid(False)\n",
    "plt.title('Total sales by each enterprise', fontsize = 15)\n",
    "plt.xlabel('Sales in EUR',fontsize=12)\n",
    "plt.ylabel('EnterpriseID',fontsize=12)\n",
    "plt.show()"
   ]
  },
  {
   "cell_type": "markdown",
   "id": "ddb708fc-106d-4afe-a31f-b47076c66178",
   "metadata": {},
   "source": [
    "Observations:\n",
    "- The average sale is higher in Palamos shop than in other shops.\n",
    "- Clients with ID 2 and 4 are buying the most.\n",
    "- Girona shop has the highest total of sales."
   ]
  },
  {
   "cell_type": "markdown",
   "id": "a08c5731-0be9-44e9-8dec-3fae35c8c355",
   "metadata": {},
   "source": [
    "#### Notes\n",
    "* Import data to DataFrame\n",
    "    - https://medium.com/analytics-vidhya/importing-data-from-a-mysql-database-into-pandas-data-frame-a06e392d27d7"
   ]
  }
 ],
 "metadata": {
  "kernelspec": {
   "display_name": "Python 3",
   "language": "python",
   "name": "python3"
  },
  "language_info": {
   "codemirror_mode": {
    "name": "ipython",
    "version": 3
   },
   "file_extension": ".py",
   "mimetype": "text/x-python",
   "name": "python",
   "nbconvert_exporter": "python",
   "pygments_lexer": "ipython3",
   "version": "3.8.8"
  }
 },
 "nbformat": 4,
 "nbformat_minor": 5
}
